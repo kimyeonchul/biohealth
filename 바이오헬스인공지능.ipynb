{
  "nbformat": 4,
  "nbformat_minor": 0,
  "metadata": {
    "colab": {
      "provenance": [],
      "toc_visible": true,
      "authorship_tag": "ABX9TyNDaR8F7/QCA4xZAcLRjvzb",
      "include_colab_link": true
    },
    "kernelspec": {
      "name": "python3",
      "display_name": "Python 3"
    },
    "language_info": {
      "name": "python"
    }
  },
  "cells": [
    {
      "cell_type": "markdown",
      "metadata": {
        "id": "view-in-github",
        "colab_type": "text"
      },
      "source": [
        "<a href=\"https://colab.research.google.com/github/kimyeonchul/biohealth/blob/main/%EB%B0%94%EC%9D%B4%EC%98%A4%ED%97%AC%EC%8A%A4%EC%9D%B8%EA%B3%B5%EC%A7%80%EB%8A%A5.ipynb\" target=\"_parent\"><img src=\"https://colab.research.google.com/assets/colab-badge.svg\" alt=\"Open In Colab\"/></a>"
      ]
    },
    {
      "cell_type": "markdown",
      "source": [
        "바이오헬스인공지능 colab 연결"
      ],
      "metadata": {
        "id": "c6q0BYvuiwC5"
      }
    },
    {
      "cell_type": "code",
      "execution_count": 1,
      "metadata": {
        "colab": {
          "base_uri": "https://localhost:8080/"
        },
        "id": "96-V6UPRdaSn",
        "outputId": "ced77f3b-09b0-431f-a692-a39f8e0f083f"
      },
      "outputs": [
        {
          "output_type": "stream",
          "name": "stdout",
          "text": [
            "biohealth\n"
          ]
        }
      ],
      "source": [
        "print(\"biohealth\")"
      ]
    }
  ]
}